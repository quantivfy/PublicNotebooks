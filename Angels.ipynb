{
 "cells": [
  {
   "cell_type": "code",
   "execution_count": 1,
   "id": "15d37726",
   "metadata": {},
   "outputs": [],
   "source": [
    "import datetime as dt\n",
    "import pandas as pd\n",
    "import numpy as np\n",
    "import matplotlib.pyplot as plt\n",
    "import time"
   ]
  },
  {
   "cell_type": "markdown",
   "id": "92fb5b3b",
   "metadata": {},
   "source": [
    "Create some mock opening day payroll data for the desperately georgraphically confused \"California Angels who play in a city called Anaheim, which is near a better know city called Los Angeles, which already has a baseball team\""
   ]
  },
  {
   "cell_type": "code",
   "execution_count": 2,
   "id": "bed0e695",
   "metadata": {},
   "outputs": [
    {
     "data": {
      "text/html": [
       "<div>\n",
       "<style scoped>\n",
       "    .dataframe tbody tr th:only-of-type {\n",
       "        vertical-align: middle;\n",
       "    }\n",
       "\n",
       "    .dataframe tbody tr th {\n",
       "        vertical-align: top;\n",
       "    }\n",
       "\n",
       "    .dataframe thead th {\n",
       "        text-align: right;\n",
       "    }\n",
       "</style>\n",
       "<table border=\"1\" class=\"dataframe\">\n",
       "  <thead>\n",
       "    <tr style=\"text-align: right;\">\n",
       "      <th></th>\n",
       "      <th>Team</th>\n",
       "      <th>Date</th>\n",
       "      <th>OpeningDayPayroll</th>\n",
       "    </tr>\n",
       "  </thead>\n",
       "  <tbody>\n",
       "    <tr>\n",
       "      <th>0</th>\n",
       "      <td>ANA</td>\n",
       "      <td>2004</td>\n",
       "      <td>1.0</td>\n",
       "    </tr>\n",
       "    <tr>\n",
       "      <th>1</th>\n",
       "      <td>LAA</td>\n",
       "      <td>2005</td>\n",
       "      <td>2.0</td>\n",
       "    </tr>\n",
       "    <tr>\n",
       "      <th>2</th>\n",
       "      <td>LAA</td>\n",
       "      <td>2006</td>\n",
       "      <td>3.0</td>\n",
       "    </tr>\n",
       "    <tr>\n",
       "      <th>3</th>\n",
       "      <td>LAA</td>\n",
       "      <td>2007</td>\n",
       "      <td>NaN</td>\n",
       "    </tr>\n",
       "  </tbody>\n",
       "</table>\n",
       "</div>"
      ],
      "text/plain": [
       "  Team  Date  OpeningDayPayroll\n",
       "0  ANA  2004                1.0\n",
       "1  LAA  2005                2.0\n",
       "2  LAA  2006                3.0\n",
       "3  LAA  2007                NaN"
      ]
     },
     "execution_count": 2,
     "metadata": {},
     "output_type": "execute_result"
    }
   ],
   "source": [
    "payrollData = [['ANA', 2004, 1], ['LAA', 2005, 2], ['LAA', 2006, 3], ['LAA', 2007, float(\"NaN\")]]\n",
    "payrollDf = pd.DataFrame(payrollData, columns=['Team', 'Date', 'OpeningDayPayroll'])\n",
    "payrollDf"
   ]
  },
  {
   "cell_type": "markdown",
   "id": "c8f4a01c",
   "metadata": {},
   "source": [
    "The opening day payroll is valid for every day of a calendar year, so resample the dataset with forward fill to create a daily dataframe that can be matched to each game of a season.  "
   ]
  },
  {
   "cell_type": "code",
   "execution_count": 3,
   "id": "d42e8eac",
   "metadata": {},
   "outputs": [
    {
     "data": {
      "text/html": [
       "<div>\n",
       "<style scoped>\n",
       "    .dataframe tbody tr th:only-of-type {\n",
       "        vertical-align: middle;\n",
       "    }\n",
       "\n",
       "    .dataframe tbody tr th {\n",
       "        vertical-align: top;\n",
       "    }\n",
       "\n",
       "    .dataframe thead th {\n",
       "        text-align: right;\n",
       "    }\n",
       "</style>\n",
       "<table border=\"1\" class=\"dataframe\">\n",
       "  <thead>\n",
       "    <tr style=\"text-align: right;\">\n",
       "      <th></th>\n",
       "      <th>Date</th>\n",
       "      <th>Team</th>\n",
       "      <th>OpeningDayPayroll</th>\n",
       "    </tr>\n",
       "  </thead>\n",
       "  <tbody>\n",
       "    <tr>\n",
       "      <th>0</th>\n",
       "      <td>2004-01-01</td>\n",
       "      <td>ANA</td>\n",
       "      <td>1.0</td>\n",
       "    </tr>\n",
       "    <tr>\n",
       "      <th>1</th>\n",
       "      <td>2004-01-02</td>\n",
       "      <td>ANA</td>\n",
       "      <td>1.0</td>\n",
       "    </tr>\n",
       "    <tr>\n",
       "      <th>2</th>\n",
       "      <td>2004-01-03</td>\n",
       "      <td>ANA</td>\n",
       "      <td>1.0</td>\n",
       "    </tr>\n",
       "    <tr>\n",
       "      <th>3</th>\n",
       "      <td>2004-01-04</td>\n",
       "      <td>ANA</td>\n",
       "      <td>1.0</td>\n",
       "    </tr>\n",
       "    <tr>\n",
       "      <th>4</th>\n",
       "      <td>2004-01-05</td>\n",
       "      <td>ANA</td>\n",
       "      <td>1.0</td>\n",
       "    </tr>\n",
       "    <tr>\n",
       "      <th>...</th>\n",
       "      <td>...</td>\n",
       "      <td>...</td>\n",
       "      <td>...</td>\n",
       "    </tr>\n",
       "    <tr>\n",
       "      <th>1092</th>\n",
       "      <td>2006-12-28</td>\n",
       "      <td>LAA</td>\n",
       "      <td>3.0</td>\n",
       "    </tr>\n",
       "    <tr>\n",
       "      <th>1093</th>\n",
       "      <td>2006-12-29</td>\n",
       "      <td>LAA</td>\n",
       "      <td>3.0</td>\n",
       "    </tr>\n",
       "    <tr>\n",
       "      <th>1094</th>\n",
       "      <td>2006-12-30</td>\n",
       "      <td>LAA</td>\n",
       "      <td>3.0</td>\n",
       "    </tr>\n",
       "    <tr>\n",
       "      <th>1095</th>\n",
       "      <td>2006-12-31</td>\n",
       "      <td>LAA</td>\n",
       "      <td>3.0</td>\n",
       "    </tr>\n",
       "    <tr>\n",
       "      <th>1096</th>\n",
       "      <td>2007-01-01</td>\n",
       "      <td>LAA</td>\n",
       "      <td>NaN</td>\n",
       "    </tr>\n",
       "  </tbody>\n",
       "</table>\n",
       "<p>1097 rows × 3 columns</p>\n",
       "</div>"
      ],
      "text/plain": [
       "           Date Team  OpeningDayPayroll\n",
       "0    2004-01-01  ANA                1.0\n",
       "1    2004-01-02  ANA                1.0\n",
       "2    2004-01-03  ANA                1.0\n",
       "3    2004-01-04  ANA                1.0\n",
       "4    2004-01-05  ANA                1.0\n",
       "...         ...  ...                ...\n",
       "1092 2006-12-28  LAA                3.0\n",
       "1093 2006-12-29  LAA                3.0\n",
       "1094 2006-12-30  LAA                3.0\n",
       "1095 2006-12-31  LAA                3.0\n",
       "1096 2007-01-01  LAA                NaN\n",
       "\n",
       "[1097 rows x 3 columns]"
      ]
     },
     "execution_count": 3,
     "metadata": {},
     "output_type": "execute_result"
    }
   ],
   "source": [
    "payrollDf['Date']=pd.to_datetime(payrollDf['Date'], format='%Y')\n",
    "payrollDf.set_index('Date', inplace=True)\n",
    "payrollDailyDf = payrollDf.resample('D').ffill()\n",
    "payrollDailyDf.reset_index(inplace=True)\n",
    "payrollDailyDf"
   ]
  },
  {
   "cell_type": "markdown",
   "id": "29984c8b",
   "metadata": {},
   "source": [
    "Create some (very) mock score data"
   ]
  },
  {
   "cell_type": "code",
   "execution_count": 4,
   "id": "d107533d",
   "metadata": {},
   "outputs": [
    {
     "data": {
      "text/html": [
       "<div>\n",
       "<style scoped>\n",
       "    .dataframe tbody tr th:only-of-type {\n",
       "        vertical-align: middle;\n",
       "    }\n",
       "\n",
       "    .dataframe tbody tr th {\n",
       "        vertical-align: top;\n",
       "    }\n",
       "\n",
       "    .dataframe thead th {\n",
       "        text-align: right;\n",
       "    }\n",
       "</style>\n",
       "<table border=\"1\" class=\"dataframe\">\n",
       "  <thead>\n",
       "    <tr style=\"text-align: right;\">\n",
       "      <th></th>\n",
       "      <th>HomeTeam</th>\n",
       "      <th>AwayTeam</th>\n",
       "      <th>Date</th>\n",
       "      <th>GameNo</th>\n",
       "      <th>HomeTeamScore</th>\n",
       "      <th>AwayTeamScore</th>\n",
       "    </tr>\n",
       "  </thead>\n",
       "  <tbody>\n",
       "    <tr>\n",
       "      <th>0</th>\n",
       "      <td>LAA</td>\n",
       "      <td>CLE</td>\n",
       "      <td>2004-04-02</td>\n",
       "      <td>1</td>\n",
       "      <td>6</td>\n",
       "      <td>2</td>\n",
       "    </tr>\n",
       "    <tr>\n",
       "      <th>1</th>\n",
       "      <td>NYY</td>\n",
       "      <td>LAA</td>\n",
       "      <td>2005-08-03</td>\n",
       "      <td>1</td>\n",
       "      <td>2</td>\n",
       "      <td>3</td>\n",
       "    </tr>\n",
       "    <tr>\n",
       "      <th>2</th>\n",
       "      <td>LAA</td>\n",
       "      <td>LAD</td>\n",
       "      <td>2006-09-01</td>\n",
       "      <td>1</td>\n",
       "      <td>11</td>\n",
       "      <td>2</td>\n",
       "    </tr>\n",
       "  </tbody>\n",
       "</table>\n",
       "</div>"
      ],
      "text/plain": [
       "  HomeTeam AwayTeam       Date  GameNo  HomeTeamScore  AwayTeamScore\n",
       "0      LAA      CLE 2004-04-02       1              6              2\n",
       "1      NYY      LAA 2005-08-03       1              2              3\n",
       "2      LAA      LAD 2006-09-01       1             11              2"
      ]
     },
     "execution_count": 4,
     "metadata": {},
     "output_type": "execute_result"
    }
   ],
   "source": [
    "scoreData = [['LAA', 'CLE', '2004-04-02', 1, 6, 2], ['NYY', 'LAA', '2005-08-03', 1, 2, 3], ['LAA', 'LAD', '2006-09-01', 1, 11, 2]]\n",
    "scoreDataDf = pd.DataFrame(scoreData, columns=['HomeTeam', 'AwayTeam', 'Date', 'GameNo', 'HomeTeamScore', 'AwayTeamScore'])\n",
    "scoreDataDf['Date']=pd.to_datetime(scoreDataDf['Date'], format='%Y-%m-%d')\n",
    "scoreDataDf"
   ]
  },
  {
   "cell_type": "markdown",
   "id": "046f0947",
   "metadata": {},
   "source": [
    "Merge payroll and result data, expecting to find all games matched with an opening day payroll figure"
   ]
  },
  {
   "cell_type": "code",
   "execution_count": 5,
   "id": "f4a7d2b6",
   "metadata": {},
   "outputs": [
    {
     "data": {
      "text/html": [
       "<div>\n",
       "<style scoped>\n",
       "    .dataframe tbody tr th:only-of-type {\n",
       "        vertical-align: middle;\n",
       "    }\n",
       "\n",
       "    .dataframe tbody tr th {\n",
       "        vertical-align: top;\n",
       "    }\n",
       "\n",
       "    .dataframe thead th {\n",
       "        text-align: right;\n",
       "    }\n",
       "</style>\n",
       "<table border=\"1\" class=\"dataframe\">\n",
       "  <thead>\n",
       "    <tr style=\"text-align: right;\">\n",
       "      <th></th>\n",
       "      <th>Date</th>\n",
       "      <th>Team</th>\n",
       "      <th>OpeningDayPayroll</th>\n",
       "      <th>HomeTeam</th>\n",
       "      <th>AwayTeam</th>\n",
       "      <th>GameNo</th>\n",
       "      <th>HomeTeamScore</th>\n",
       "      <th>AwayTeamScore</th>\n",
       "    </tr>\n",
       "  </thead>\n",
       "  <tbody>\n",
       "    <tr>\n",
       "      <th>1</th>\n",
       "      <td>2005-08-03</td>\n",
       "      <td>LAA</td>\n",
       "      <td>2.0</td>\n",
       "      <td>NYY</td>\n",
       "      <td>LAA</td>\n",
       "      <td>1</td>\n",
       "      <td>2</td>\n",
       "      <td>3</td>\n",
       "    </tr>\n",
       "    <tr>\n",
       "      <th>0</th>\n",
       "      <td>2006-09-01</td>\n",
       "      <td>LAA</td>\n",
       "      <td>3.0</td>\n",
       "      <td>LAA</td>\n",
       "      <td>LAD</td>\n",
       "      <td>1</td>\n",
       "      <td>11</td>\n",
       "      <td>2</td>\n",
       "    </tr>\n",
       "  </tbody>\n",
       "</table>\n",
       "</div>"
      ],
      "text/plain": [
       "        Date Team  OpeningDayPayroll HomeTeam AwayTeam  GameNo  HomeTeamScore  \\\n",
       "1 2005-08-03  LAA                2.0      NYY      LAA       1              2   \n",
       "0 2006-09-01  LAA                3.0      LAA      LAD       1             11   \n",
       "\n",
       "   AwayTeamScore  \n",
       "1              3  \n",
       "0              2  "
      ]
     },
     "execution_count": 5,
     "metadata": {},
     "output_type": "execute_result"
    }
   ],
   "source": [
    "mergedHome = pd.merge(payrollDailyDf, scoreDataDf, how='inner', left_on=['Date','Team'], right_on = ['Date','HomeTeam'])\n",
    "mergedAway = pd.merge(payrollDailyDf, scoreDataDf, how='inner', left_on=['Date','Team'], right_on = ['Date','AwayTeam'])\n",
    "mergedHome.append(mergedAway, ignore_index=True).sort_values(by=['Date','GameNo'])"
   ]
  },
  {
   "cell_type": "markdown",
   "id": "8971b04c",
   "metadata": {},
   "source": [
    "Outer join the data to identify which row wasn't matched.  The row without a match will be null.  Some special handling is required in this example because the data being matched could be in one of two columns (home or away)"
   ]
  },
  {
   "cell_type": "code",
   "execution_count": 6,
   "id": "a1f319c8",
   "metadata": {},
   "outputs": [
    {
     "data": {
      "text/html": [
       "<div>\n",
       "<style scoped>\n",
       "    .dataframe tbody tr th:only-of-type {\n",
       "        vertical-align: middle;\n",
       "    }\n",
       "\n",
       "    .dataframe tbody tr th {\n",
       "        vertical-align: top;\n",
       "    }\n",
       "\n",
       "    .dataframe thead th {\n",
       "        text-align: right;\n",
       "    }\n",
       "</style>\n",
       "<table border=\"1\" class=\"dataframe\">\n",
       "  <thead>\n",
       "    <tr style=\"text-align: right;\">\n",
       "      <th></th>\n",
       "      <th>Date</th>\n",
       "      <th>Team</th>\n",
       "      <th>OpeningDayPayroll</th>\n",
       "      <th>HomeTeam</th>\n",
       "    </tr>\n",
       "    <tr>\n",
       "      <th>index</th>\n",
       "      <th></th>\n",
       "      <th></th>\n",
       "      <th></th>\n",
       "      <th></th>\n",
       "    </tr>\n",
       "  </thead>\n",
       "  <tbody>\n",
       "    <tr>\n",
       "      <th>0</th>\n",
       "      <td>2004-04-02</td>\n",
       "      <td>None</td>\n",
       "      <td>NaN</td>\n",
       "      <td>LAA</td>\n",
       "    </tr>\n",
       "  </tbody>\n",
       "</table>\n",
       "</div>"
      ],
      "text/plain": [
       "            Date  Team  OpeningDayPayroll HomeTeam\n",
       "index                                             \n",
       "0     2004-04-02  None                NaN      LAA"
      ]
     },
     "execution_count": 6,
     "metadata": {},
     "output_type": "execute_result"
    }
   ],
   "source": [
    "mergedHome = pd.merge(payrollDailyDf, scoreDataDf.reset_index(), how='right', left_on=['Date','Team'], right_on = ['Date','HomeTeam'])\n",
    "mergedAway = pd.merge(payrollDailyDf, scoreDataDf.reset_index(), how='right', left_on=['Date','Team'], right_on = ['Date','AwayTeam'])\n",
    "\n",
    "mergedRight = mergedHome.append(mergedAway, ignore_index=True).sort_values(by=['Date','GameNo']).groupby(['index'])\\\n",
    ".agg({'Date':['max'], 'Team':['first'], 'OpeningDayPayroll':['max'], 'HomeTeam':['first'], 'HomeTeam':['first']})\n",
    "mergedRight.columns = mergedRight.columns.get_level_values(0)\n",
    "mergedRight[mergedRight.Team.isnull()]"
   ]
  },
  {
   "cell_type": "markdown",
   "id": "f40f0130",
   "metadata": {},
   "source": [
    "Display the missed inner join data"
   ]
  },
  {
   "cell_type": "code",
   "execution_count": 7,
   "id": "4d6e73b2",
   "metadata": {},
   "outputs": [
    {
     "data": {
      "text/html": [
       "<div>\n",
       "<style scoped>\n",
       "    .dataframe tbody tr th:only-of-type {\n",
       "        vertical-align: middle;\n",
       "    }\n",
       "\n",
       "    .dataframe tbody tr th {\n",
       "        vertical-align: top;\n",
       "    }\n",
       "\n",
       "    .dataframe thead th {\n",
       "        text-align: right;\n",
       "    }\n",
       "</style>\n",
       "<table border=\"1\" class=\"dataframe\">\n",
       "  <thead>\n",
       "    <tr style=\"text-align: right;\">\n",
       "      <th></th>\n",
       "      <th>Date</th>\n",
       "      <th>Team</th>\n",
       "      <th>OpeningDayPayroll</th>\n",
       "    </tr>\n",
       "  </thead>\n",
       "  <tbody>\n",
       "    <tr>\n",
       "      <th>92</th>\n",
       "      <td>2004-04-02</td>\n",
       "      <td>ANA</td>\n",
       "      <td>1.0</td>\n",
       "    </tr>\n",
       "  </tbody>\n",
       "</table>\n",
       "</div>"
      ],
      "text/plain": [
       "         Date Team  OpeningDayPayroll\n",
       "92 2004-04-02  ANA                1.0"
      ]
     },
     "execution_count": 7,
     "metadata": {},
     "output_type": "execute_result"
    }
   ],
   "source": [
    "payrollDailyDf[payrollDailyDf.Date.isin(mergedRight[mergedRight.Team.isnull()].Date)]"
   ]
  }
 ],
 "metadata": {
  "kernelspec": {
   "display_name": "Python 3.9.7 ('base')",
   "language": "python",
   "name": "python3"
  },
  "language_info": {
   "codemirror_mode": {
    "name": "ipython",
    "version": 3
   },
   "file_extension": ".py",
   "mimetype": "text/x-python",
   "name": "python",
   "nbconvert_exporter": "python",
   "pygments_lexer": "ipython3",
   "version": "3.9.7"
  },
  "vscode": {
   "interpreter": {
    "hash": "8a73d5088e7f266324a8a95209be399d387341ecceefdb24935f56d0d0f59ba6"
   }
  }
 },
 "nbformat": 4,
 "nbformat_minor": 5
}
